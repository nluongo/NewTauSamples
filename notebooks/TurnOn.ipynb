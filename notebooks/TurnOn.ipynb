{
 "cells": [
  {
   "cell_type": "code",
   "execution_count": null,
   "metadata": {},
   "outputs": [],
   "source": [
    "import ROOT\n",
    "from ROOT import TGraph, TLine, TH1F, TCanvas, TLegend, TPaveText, kRed, kGreen, kMagenta, kBlue\n",
    "from ROOTDefs import get_signal_and_background_files, get_formatted_root_tree, tau_data_directory\n",
    "import os\n",
    "import numpy as np\n",
    "#from bigClusterHelpers import bigCluster\n",
    "from myHelpers_New import bigCluster"
   ]
  },
  {
   "cell_type": "code",
   "execution_count": null,
   "metadata": {},
   "outputs": [],
   "source": [
    "#tsig, fsig, tback, fback\n",
    "\n",
    "run2_tback, run2_fback = get_formatted_root_tree(os.path.join(tau_data_directory(), 'back_ntuple_turnonrunII.root'))\n",
    "print(run2_tback.entries)\n",
    "run3_tback, run3_fback = get_formatted_root_tree(os.path.join(tau_data_directory(), 'back_ntuple_turnonrunIII.root'))\n",
    "print(run3_tback.entries)\n",
    "run3_tback_weighted, run3_fback_weighted = get_formatted_root_tree(os.path.join(tau_data_directory(), 'back_ntuple_turnonrunIII_weighted.root'))\n",
    "print(run3_tback_weighted.entries)\n",
    "bigcluster_tback, bigcluster_fback = get_formatted_root_tree(os.path.join(tau_data_directory(), 'back_ntuple_turnonbigcluster.root'))\n",
    "print(bigcluster_tback.entries)\n",
    "run3_cell_tback, run3_cell_fback = get_formatted_root_tree(os.path.join(tau_data_directory(), 'back_cells_runIII.root'))\n",
    "print(run3_cell_tback.entries)"
   ]
  },
  {
   "cell_type": "code",
   "execution_count": null,
   "metadata": {},
   "outputs": [],
   "source": [
    "%jsroot on\n",
    "c1 = TCanvas('c1', 'Graph Draw Options', 200, 10, 800, 600)"
   ]
  },
  {
   "cell_type": "code",
   "execution_count": null,
   "metadata": {},
   "outputs": [],
   "source": [
    "event_num = run3_tback.entries\n",
    "\n",
    "run3_ets = np.zeros(event_num)\n",
    "bigcluster_ets = np.zeros(event_num)\n",
    "\n",
    "for i in range(event_num):\n",
    "    run3_tback.root_ttree.GetEntry(i)\n",
    "    run3_ets[i] = run3_tback.root_ttree.Run3Et\n",
    "    \n",
    "    bigcluster_tback.root_ttree.GetEntry(i)\n",
    "    bigcluster_ets[i] = bigcluster_tback.root_ttree.BigClusterEt\n",
    "    \n",
    "scatterer = TGraph(run3_tback.entries, run3_ets, bigcluster_ets)\n",
    "\n",
    "liner = TLine(0, 0, 100, 100)\n",
    "\n",
    "c1.Clear()\n",
    "\n",
    "scatterer.Draw('ap')\n",
    "scatterer.SetMarkerColor(kBlue)\n",
    "scatterer.SetTitle('Oregon vs. bigCluster Et')\n",
    "scatterer.GetXaxis().SetTitle('Oregon Et')\n",
    "scatterer.GetYaxis().SetTitle('bigCluster Et')\n",
    "scatterer.GetXaxis().SetRangeUser(0, 100)\n",
    "scatterer.GetYaxis().SetRangeUser(0, 100)\n",
    "\n",
    "liner.Draw('same')\n",
    "\n",
    "c1.Draw()"
   ]
  },
  {
   "cell_type": "code",
   "execution_count": null,
   "metadata": {},
   "outputs": [],
   "source": [
    "run2_et_hist = TH1F('hist', 'Run-II Background Et', 100, 0, 25)\n",
    "run2_et_hist.GetXaxis().SetTitle('Reconstructed Et')\n",
    "run2_et_hist.GetYaxis().SetTitle('Entries')\n",
    "\n",
    "run2_et_hist.Reset()\n",
    "\n",
    "runII_counter_20 = 0\n",
    "runII_counter_12 = 0\n",
    "runII_counter_sub1 = 0\n",
    "runII_counter_over12 = 0\n",
    "runII_counter_over50 = 0\n",
    "\n",
    "for i in range(run2_tback.entries):\n",
    "    run2_tback.root_ttree.GetEntry(i)\n",
    "    et = run2_tback.root_ttree.Run2Et\n",
    "    \n",
    "    if et > 12:\n",
    "        runII_counter_12 += 1\n",
    "    if et > 20:\n",
    "        runII_counter_20 += 1\n",
    "    \n",
    "\n",
    "#run2_et_hist.Draw()\n",
    "#c1.Draw()\n",
    "\n",
    "print(runII_counter_12)\n",
    "print(runII_counter_20)"
   ]
  },
  {
   "cell_type": "code",
   "execution_count": null,
   "metadata": {},
   "outputs": [],
   "source": [
    "# Run 2 count of events >= 12\n",
    "#runII_counter_12 = 7990\n",
    "# Run 2 count of events > 12\n",
    "runII_counter_12 = 7119\n",
    "\n",
    "print('Run-II background events over 20 GeV: ',runII_counter_20)\n",
    "print('Run-II background events over 12 GeV: ',runII_counter_12)"
   ]
  },
  {
   "cell_type": "code",
   "execution_count": null,
   "metadata": {
    "slideshow": {
     "slide_type": "slide"
    }
   },
   "outputs": [],
   "source": [
    "run3_et_hist = TH1F('hist', 'Run-III Background Et', 100, 0, 25)\n",
    "run3_et_hist.GetXaxis().SetTitle('Reconstructed Et')\n",
    "run3_et_hist.GetYaxis().SetTitle('Entries')\n",
    "\n",
    "run3_et_hist.Reset()\n",
    "\n",
    "run3_counter_over12 = 0\n",
    "run3_counter_under0 = 0\n",
    "\n",
    "for i in range(run3_tback.entries):\n",
    "    run3_tback.root_ttree.GetEntry(i)\n",
    "    event_et = run3_tback.root_ttree.Run3Et\n",
    "    #if i < 1000:\n",
    "    #    print(event_et)\n",
    "    if event_et < 0:\n",
    "        run3_counter_under0 += 1\n",
    "    if event_et > 12:\n",
    "        run3_counter_over12 += 1\n",
    "    run3_et_hist.Fill(event_et)  \n",
    "\n",
    "c1.Clear()\n",
    "run3_et_hist.Draw()\n",
    "c1.Draw()\n",
    "print(run3_counter_over12)\n",
    "print(run3_counter_under0)"
   ]
  },
  {
   "cell_type": "code",
   "execution_count": null,
   "metadata": {
    "scrolled": true
   },
   "outputs": [],
   "source": [
    "bigcluster_et_hist = TH1F('hist', 'Big Cluster Background Et', 100, 0, 25)\n",
    "bigcluster_et_hist.GetXaxis().SetTitle('Reconstructed Et')\n",
    "bigcluster_et_hist.GetYaxis().SetTitle('Entries')\n",
    "\n",
    "bigcluster_et_hist.Reset()\n",
    "\n",
    "bigcluster_counter_over12 = 0\n",
    "bigcluster_counter_under0 = 0\n",
    "\n",
    "for i in range(bigcluster_tback.entries):\n",
    "    bigcluster_tback.root_ttree.GetEntry(i)\n",
    "    event_et = bigcluster_tback.root_ttree.BigClusterEt\n",
    "    #if i < 100:\n",
    "    #    print(event_et)\n",
    "    if event_et < 0:\n",
    "        bigcluster_counter_under0 += 1\n",
    "    if event_et > 12:\n",
    "        bigcluster_counter_over12 += 1\n",
    "    bigcluster_et_hist.Fill(event_et)  \n",
    "    \n",
    "c1.Clear()\n",
    "bigcluster_et_hist.Draw()\n",
    "c1.Draw()\n",
    "\n",
    "print(bigcluster_counter_over12)\n",
    "print(bigcluster_counter_under0)"
   ]
  },
  {
   "cell_type": "code",
   "execution_count": null,
   "metadata": {},
   "outputs": [],
   "source": [
    "runII_lowet_threshold = 12\n",
    "print(runII_counter_12)"
   ]
  },
  {
   "cell_type": "code",
   "execution_count": null,
   "metadata": {},
   "outputs": [],
   "source": [
    "et_cuts = [ 0.025 * i for i in range(1200)]\n",
    "events_above_cut = [0]*1200    \n",
    "\n",
    "runIII_lowet_threshold = None\n",
    "entries = run3_tback.entries\n",
    "for j, cut in enumerate(et_cuts):\n",
    "    if runIII_lowet_threshold is not None:\n",
    "        break\n",
    "    for i in range(entries):\n",
    "        run3_tback.root_ttree.GetEntry(i)\n",
    "        event_et = run3_tback.root_ttree.Run3Et\n",
    "        if event_et > cut:\n",
    "            events_above_cut[j] += 1\n",
    "    if events_above_cut[j] <= runII_counter_12:\n",
    "        runIII_lowet_threshold = cut\n",
    "        break\n",
    "        \n",
    "print(runIII_lowet_threshold)"
   ]
  },
  {
   "cell_type": "code",
   "execution_count": null,
   "metadata": {},
   "outputs": [],
   "source": [
    "et_cuts = [ 0.025 * i for i in range(1200)]\n",
    "events_above_cut = [0]*1200    \n",
    "\n",
    "runIII_highet_threshold = None\n",
    "entries = run3_tback.entries\n",
    "for j, cut in enumerate(et_cuts):\n",
    "    if runIII_highet_threshold is not None:\n",
    "        break\n",
    "    for i in range(entries):\n",
    "        run3_tback.root_ttree.GetEntry(i)\n",
    "        event_et = run3_tback.root_ttree.Run3Et\n",
    "        if event_et > cut:\n",
    "            events_above_cut[j] += 1\n",
    "    if events_above_cut[j] <= runII_counter_20:\n",
    "        runIII_highet_threshold = cut\n",
    "        break\n",
    "        \n",
    "print(runIII_highet_threshold)"
   ]
  },
  {
   "cell_type": "code",
   "execution_count": null,
   "metadata": {},
   "outputs": [],
   "source": [
    "et_cuts = [ 0.025 * i for i in range(1200)]\n",
    "events_above_cut = [0]*1200    \n",
    "\n",
    "bigcluster_lowet_threshold = None\n",
    "entries = bigcluster_tback.entries\n",
    "for j, cut in enumerate(et_cuts):\n",
    "    if bigcluster_lowet_threshold is not None:\n",
    "        break\n",
    "    for i in range(entries):\n",
    "        bigcluster_tback.root_ttree.GetEntry(i)\n",
    "        event_et = bigcluster_tback.root_ttree.BigClusterEt\n",
    "        if event_et > cut:\n",
    "            events_above_cut[j] += 1\n",
    "    if events_above_cut[j] <= runII_counter_12:\n",
    "        bigcluster_lowet_threshold = cut\n",
    "        break                  \n",
    "        \n",
    "print(bigcluster_lowet_threshold)"
   ]
  },
  {
   "cell_type": "code",
   "execution_count": null,
   "metadata": {},
   "outputs": [],
   "source": [
    "# Values calculated above\n",
    "runII_lowet_threshold = 12\n",
    "runIII_lowet_threshold = 13\n",
    "bigcluster_lowet_threshold = 13.8"
   ]
  },
  {
   "cell_type": "code",
   "execution_count": null,
   "metadata": {},
   "outputs": [],
   "source": [
    "# Modify values for testing\n",
    "runII_lowet_threshold = 12\n",
    "runIII_lowet_threshold = 12.5\n",
    "bigcluster_lowet_threshold = 13.5"
   ]
  },
  {
   "cell_type": "code",
   "execution_count": null,
   "metadata": {},
   "outputs": [],
   "source": [
    "print(tau_data_directory())\n",
    "run2_tsig, run2_fsig = get_formatted_root_tree(os.path.join(tau_data_directory(), 'sig_ntuple_turnonrunII.root'))\n",
    "print(run2_tsig.entries)\n",
    "run3_tsig, run3_fsig = get_formatted_root_tree(os.path.join(tau_data_directory(), 'sig_ntuple_turnonrunIII.root'))\n",
    "print(run3_tsig.entries)\n",
    "#run3_tsig_weighted, run3_fsig_weighted = get_formatted_root_tree(os.path.join(tau_data_directory(), 'sig_ntuple_turnonrunIII_weighted.root'))\n",
    "#print(run3_tsig_weighted.entries)\n",
    "bigcluster_tsig, bigcluster_fsig = get_formatted_root_tree(os.path.join(tau_data_directory(), 'sig_ntuple_turnonbigcluster.root'))\n",
    "print(bigcluster_tsig.entries)"
   ]
  },
  {
   "cell_type": "code",
   "execution_count": null,
   "metadata": {},
   "outputs": [],
   "source": [
    "run2_sig_pt = TH1F('hist', 'Run-II Signal Reco Tau Pt', 40, 0, 80)\n",
    "run2_sig_pt.GetXaxis().SetTitle('Reco Tau Pt')\n",
    "run2_sig_pt.GetYaxis().SetTitle('Entries')\n",
    "\n",
    "for i in range(run2_tsig.entries):\n",
    "    run2_tsig.root_ttree.GetEntry(i)\n",
    "    run2_sig_pt.Fill(run2_tsig.root_ttree.RecoTauPt)\n",
    "    \n",
    "c1.Clear()\n",
    "run2_sig_pt.Draw()\n",
    "c1.Draw()"
   ]
  },
  {
   "cell_type": "code",
   "execution_count": null,
   "metadata": {},
   "outputs": [],
   "source": [
    "run2_sig_pt_12gev = TH1F('hist', 'Run-II Signal Reco Tau Pt (Reconstructed Et > {} GeV)'.format(runII_lowet_threshold), 40, 0, 80)\n",
    "run2_sig_pt_12gev.GetXaxis().SetTitle('Reco Tau Pt')\n",
    "run2_sig_pt_12gev.GetYaxis().SetTitle('Entries')\n",
    "\n",
    "for i in range(run2_tsig.entries):\n",
    "    run2_tsig.root_ttree.GetEntry(i)\n",
    "    event_et = run2_tsig.root_ttree.Run2Et\n",
    "    if event_et <= runII_lowet_threshold:\n",
    "        continue\n",
    "    run2_sig_pt_12gev.Fill(run2_tsig.root_ttree.RecoTauPt)\n",
    "    \n",
    "c1.Clear()\n",
    "run2_sig_pt_12gev.Draw()\n",
    "c1.Draw()"
   ]
  },
  {
   "cell_type": "code",
   "execution_count": null,
   "metadata": {},
   "outputs": [],
   "source": [
    "run2_turnon_12gev = run2_sig_pt_12gev.Clone()\n",
    "run2_turnon_12gev.SetTitle('Run-II Turn-On (Reconstructed Et > {} GeV)'.format(runII_lowet_threshold))\n",
    "\n",
    "\n",
    "run2_turnon_12gev.Divide(run2_sig_pt)\n",
    "\n",
    "c1.Clear()\n",
    "run2_turnon_12gev.Draw()\n",
    "run2_turnon_12gev.SetStats(0)\n",
    "c1.Draw() "
   ]
  },
  {
   "cell_type": "code",
   "execution_count": null,
   "metadata": {},
   "outputs": [],
   "source": [
    "run3_sig_pt = TH1F('hist', 'Run-III Reco Tau Pt', 40, 0, 80)\n",
    "run3_sig_pt.GetXaxis().SetTitle('Reco Tau Pt')\n",
    "run3_sig_pt.GetYaxis().SetTitle('Entries')\n",
    "\n",
    "for i in range(run3_tsig.entries):\n",
    "    run3_tsig.root_ttree.GetEntry(i)\n",
    "    run3_sig_pt.Fill(run3_tsig.root_ttree.RecoTauPt)\n",
    "\n",
    "c1.Clear()\n",
    "run3_sig_pt.Draw()\n",
    "c1.Draw()"
   ]
  },
  {
   "cell_type": "code",
   "execution_count": null,
   "metadata": {},
   "outputs": [],
   "source": [
    "run3_sig_pt_low = TH1F('hist', 'Run-III Reco Tau Pt (Reconstructed Et > {} GeV)'.format(runIII_lowet_threshold), 40, 0, 80)\n",
    "run3_sig_pt_low.GetXaxis().SetTitle('Reco Tau Pt')\n",
    "run3_sig_pt_low.GetYaxis().SetTitle('Entries')\n",
    "\n",
    "for i in range(run3_tsig.entries):\n",
    "    run3_tsig.root_ttree.GetEntry(i)\n",
    "    if run3_tsig.root_ttree.Run3Et <= runIII_lowet_threshold:\n",
    "        continue\n",
    "    run3_sig_pt_low.Fill(run3_tsig.root_ttree.RecoTauPt)\n",
    "\n",
    "c1.Clear()\n",
    "run3_sig_pt_low.Draw()\n",
    "c1.Draw()"
   ]
  },
  {
   "cell_type": "code",
   "execution_count": null,
   "metadata": {},
   "outputs": [],
   "source": [
    "run3_turnon_low = run3_sig_pt_low.Clone()\n",
    "run3_turnon_low.SetTitle('Run-III Turn-On (Reconstructed Et > {} GeV)'.format(runIII_lowet_threshold))\n",
    "\n",
    "run3_turnon_low.Divide(run3_sig_pt)\n",
    "\n",
    "c1.Clear()\n",
    "run3_turnon_low.Draw()\n",
    "run3_turnon_low.SetStats(0)\n",
    "c1.Draw() "
   ]
  },
  {
   "cell_type": "code",
   "execution_count": null,
   "metadata": {},
   "outputs": [],
   "source": [
    "c1.Clear()\n",
    "bigcluster_sig_pt = TH1F('hist', 'BigCluster Reco Tau Pt', 40, 0, 80)\n",
    "bigcluster_sig_pt.GetXaxis().SetTitle('Reco Tau Pt')\n",
    "bigcluster_sig_pt.GetYaxis().SetTitle('Entries')\n",
    "\n",
    "for i in range(bigcluster_tsig.entries):\n",
    "    bigcluster_tsig.root_ttree.GetEntry(i)\n",
    "    bigcluster_sig_pt.Fill(bigcluster_tsig.root_ttree.RecoTauPt)\n",
    "\n",
    "bigcluster_sig_pt.Draw()\n",
    "\n",
    "c1.Draw()"
   ]
  },
  {
   "cell_type": "code",
   "execution_count": null,
   "metadata": {},
   "outputs": [],
   "source": [
    "c1.Clear()\n",
    "bigcluster_sig_pt_low = TH1F('hist', 'BigCluster Reco Tau Pt (Reconstructed Et > {} GeV)'.format(bigcluster_lowet_threshold), 40, 0, 80)\n",
    "bigcluster_sig_pt_low.GetXaxis().SetTitle('Reco Tau Pt')\n",
    "bigcluster_sig_pt_low.GetYaxis().SetTitle('Entries')\n",
    "\n",
    "for i in range(bigcluster_tsig.entries):\n",
    "    bigcluster_tsig.root_ttree.GetEntry(i)\n",
    "    if bigcluster_tsig.root_ttree.BigClusterEt <= bigcluster_lowet_threshold:\n",
    "        continue\n",
    "    bigcluster_sig_pt_low.Fill(bigcluster_tsig.root_ttree.RecoTauPt)\n",
    "\n",
    "bigcluster_sig_pt_low.Draw()\n",
    "\n",
    "c1.Draw()"
   ]
  },
  {
   "cell_type": "code",
   "execution_count": null,
   "metadata": {},
   "outputs": [],
   "source": [
    "c1.Clear()\n",
    "bigcluster_turnon_low = bigcluster_sig_pt_low.Clone()\n",
    "bigcluster_turnon_low.SetTitle('BigCluster Turn-On (Reconstructed Et > {} GeV)'.format(bigcluster_lowet_threshold))\n",
    "\n",
    "bigcluster_turnon_low.Divide(bigcluster_sig_pt)\n",
    "\n",
    "\n",
    "bigcluster_turnon_low.Draw()\n",
    "bigcluster_turnon_low.SetStats(0)\n",
    "c1.Draw()   "
   ]
  },
  {
   "cell_type": "code",
   "execution_count": null,
   "metadata": {},
   "outputs": [],
   "source": [
    "c1.Clear()\n",
    "run2_turnon_12gev.Draw('hist')\n",
    "run2_turnon_12gev.SetStats(0)\n",
    "run2_turnon_12gev.SetTitle('Turn-On Curves (Fine Thresholds)')\n",
    "run2_turnon_12gev.GetYaxis().SetTitle('Efficiency')\n",
    "run2_turnon_12gev.GetYaxis().SetRangeUser(0, 1)\n",
    "run3_turnon_low.Draw('hsame')\n",
    "run3_turnon_low.SetLineColor(kRed)\n",
    "#run3_turnon_low_weighted.Draw('hsame')\n",
    "#run3_turnon_low_weighted.SetLineColor(kMagenta)\n",
    "bigcluster_turnon_low.Draw('hsame')\n",
    "bigcluster_turnon_low.SetLineColor(kGreen)\n",
    "\n",
    "l1 = TLegend(0.55, 0.1, 0.9, 0.25)\n",
    "l1.AddEntry(run2_turnon_12gev, 'Run-II @ {} GeV'.format(runII_lowet_threshold))\n",
    "l1.AddEntry(run3_turnon_low, 'Oregon @ {} GeV'.format(runIII_lowet_threshold))\n",
    "#l1.AddEntry(run3_turnon_low_weighted, 'Weighted Oregon')\n",
    "l1.AddEntry(bigcluster_turnon_low, 'BigCluster @ {} GeV'.format(bigcluster_lowet_threshold))\n",
    "l1.Draw('same')\n",
    "#c1.Draw()\n",
    "c1.Print('../../AllTurnOnFineThresholds.pdf')"
   ]
  },
  {
   "cell_type": "code",
   "execution_count": null,
   "metadata": {},
   "outputs": [],
   "source": [
    "run3_tsig_unw, run3_fsig_unw = get_formatted_root_tree(os.path.join(tau_data_directory(), 'sig_ntuple_turnonrunIII.root'))\n",
    "print(run3_tsig_unw.entries)\n",
    "run3_tback_unw, run3_fback_unw = get_formatted_root_tree(os.path.join(tau_data_directory(), 'back_ntuple_turnonrunIII.root'))\n",
    "print(run3_tback_unw.entries)"
   ]
  },
  {
   "cell_type": "code",
   "execution_count": null,
   "metadata": {},
   "outputs": [],
   "source": [
    "low_cut_unw = 11.9\n",
    "run3_sig_pt_low_unw = TH1F('hist', 'Run-III True Tau Pt (Reconstructed Et > {} GeV)'.format(low_cut_unw), 100, 0, 100)\n",
    "run3_sig_pt_low_unw.GetXaxis().SetTitle('True Tau Pt')\n",
    "run3_sig_pt_low_unw.GetYaxis().SetTitle('Entries')"
   ]
  },
  {
   "cell_type": "code",
   "execution_count": null,
   "metadata": {},
   "outputs": [],
   "source": [
    "for i in range(run3_tsig_unw.entries):\n",
    "    run3_tsig_unw.root_ttree.GetEntry(i)\n",
    "    if run3_tsig_unw.root_ttree.Run3Et <= low_cut_unw:\n",
    "        continue\n",
    "    run3_sig_pt_low_unw.Fill(run3_tsig_unw.root_ttree.TrueTauPt)"
   ]
  },
  {
   "cell_type": "code",
   "execution_count": null,
   "metadata": {},
   "outputs": [],
   "source": [
    "c1.Clear()\n",
    "run3_sig_pt_low_unw.Draw()\n",
    "c1.Draw()    "
   ]
  },
  {
   "cell_type": "code",
   "execution_count": null,
   "metadata": {},
   "outputs": [],
   "source": [
    "run3_turnon_low_unw = TH1F('hist', 'Run-III Turn-On (Reconstructed Et > {} GeV)'.format(low_cut_unw), 100, 0, 100)\n",
    "run3_turnon_low_unw.GetXaxis().SetTitle('True Tau Pt')\n",
    "run3_turnon_low_unw.GetYaxis().SetTitle('Event Fraction')"
   ]
  },
  {
   "cell_type": "code",
   "execution_count": null,
   "metadata": {},
   "outputs": [],
   "source": [
    "for i in range(run3_tsig_unw.entries):\n",
    "    run3_tsig_unw.root_ttree.GetEntry(i)\n",
    "    if run3_tsig_unw.root_ttree.Run3Et <= low_cut_unw:\n",
    "        continue\n",
    "    pt = run3_tsig_unw.root_ttree.TrueTauPt\n",
    "    for i in range(100):\n",
    "        if pt < i:\n",
    "            run3_turnon_low_unw.Fill(i)\n",
    "run3_turnon_low_unw.Scale(1/23448)"
   ]
  },
  {
   "cell_type": "code",
   "execution_count": null,
   "metadata": {},
   "outputs": [],
   "source": [
    "c1.Clear()\n",
    "run3_turnon_low_unw.Draw('hist')\n",
    "run3_turnon_low_unw.SetStats(0)\n",
    "c1.Draw()"
   ]
  },
  {
   "cell_type": "code",
   "execution_count": null,
   "metadata": {},
   "outputs": [],
   "source": [
    "run3_sig_pt_high_unw = TH1F('hist', 'Run-III True Tau Pt (Reconstructed Et > {} GeV)'.format(high_cut_unw), 100, 0, 100)\n",
    "run3_sig_pt_high_unw.GetXaxis().SetTitle('True Tau Pt')\n",
    "run3_sig_pt_high_unw.GetYaxis().SetTitle('Entries')"
   ]
  },
  {
   "cell_type": "code",
   "execution_count": null,
   "metadata": {},
   "outputs": [],
   "source": [
    "for i in range(run3_tsig_unw.entries):\n",
    "    run3_tsig_unw.root_ttree.GetEntry(i)\n",
    "    if run3_tsig_unw.root_ttree.Run3Et <= high_cut_unw:\n",
    "        continue\n",
    "    run3_sig_pt_high_unw.Fill(run3_tsig_unw.root_ttree.TrueTauPt)"
   ]
  },
  {
   "cell_type": "code",
   "execution_count": null,
   "metadata": {},
   "outputs": [],
   "source": [
    "c1.Clear()\n",
    "run3_sig_pt_high_unw.Draw()\n",
    "c1.Draw()    "
   ]
  },
  {
   "cell_type": "code",
   "execution_count": null,
   "metadata": {},
   "outputs": [],
   "source": [
    "run3_turnon_high_unw = TH1F('hist', 'Run-III Turn-On (Reconstructed Et > {} GeV)'.format(high_cut_unw), 100, 0, 100)\n",
    "run3_turnon_high_unw.GetXaxis().SetTitle('True Tau Pt')\n",
    "run3_turnon_high_unw.GetYaxis().SetTitle('Event Fraction')"
   ]
  },
  {
   "cell_type": "code",
   "execution_count": null,
   "metadata": {},
   "outputs": [],
   "source": [
    "for i in range(run3_tsig_unw.entries):\n",
    "    run3_tsig_unw.root_ttree.GetEntry(i)\n",
    "    if run3_tsig_unw.root_ttree.Run3Et <= high_cut_unw:\n",
    "        continue\n",
    "    pt = run3_tsig_unw.root_ttree.TrueTauPt\n",
    "    for i in range(100):\n",
    "        if pt < i:\n",
    "            run3_turnon_high_unw.Fill(i)\n",
    "run3_turnon_high_unw.Scale(1/12533)"
   ]
  },
  {
   "cell_type": "code",
   "execution_count": null,
   "metadata": {},
   "outputs": [],
   "source": [
    "c1.Clear()\n",
    "run3_turnon_high_unw.Draw('hist')\n",
    "run3_turnon_high_unw.SetStats(0)\n",
    "c1.Draw()"
   ]
  },
  {
   "cell_type": "code",
   "execution_count": null,
   "metadata": {},
   "outputs": [],
   "source": [
    "c1.Clear()\n",
    "run3_turnon_low.Draw('hist')\n",
    "run3_turnon_low.SetLineColor(kBlue)\n",
    "run3_turnon_low.SetStats(0)\n",
    "run3_turnon_low.SetTitle('Run-III Turn-On Weighted vs. Unweighted')\n",
    "run3_turnon_high.Draw('hsame')\n",
    "run3_turnon_high.SetLineColor(kRed)\n",
    "run3_turnon_low_unw.Draw('hsame')\n",
    "run3_turnon_low_unw.SetLineColor(kGreen)\n",
    "run3_turnon_high_unw.Draw('hsame')\n",
    "run3_turnon_high_unw.SetLineColor(kMagenta)\n",
    "\n",
    "l1 = TLegend(0.55, 0.1, 0.9, 0.35)\n",
    "l1.AddEntry(run3_turnon_low, 'Run-III Weighted @ 16.725 GeV')\n",
    "l1.AddEntry(run3_turnon_high, 'Run-III Weighted @ 28.45 GeV')\n",
    "l1.AddEntry(run3_turnon_low_unw, 'Run-III Unweighted @ 11.9 GeV')\n",
    "l1.AddEntry(run3_turnon_high_unw, 'Run-III Unweighted @ 20.1 GeV')\n",
    "l1.Draw('same')\n",
    "c1.Draw()\n",
    "#c1.Print('../../plots/TurnOnWeightedUnweighted.pdf')"
   ]
  },
  {
   "cell_type": "code",
   "execution_count": null,
   "metadata": {},
   "outputs": [],
   "source": []
  }
 ],
 "metadata": {
  "kernelspec": {
   "display_name": "Python 3",
   "language": "python",
   "name": "python3"
  },
  "language_info": {
   "codemirror_mode": {
    "name": "ipython",
    "version": 3
   },
   "file_extension": ".py",
   "mimetype": "text/x-python",
   "name": "python",
   "nbconvert_exporter": "python",
   "pygments_lexer": "ipython3",
   "version": "3.6.5"
  }
 },
 "nbformat": 4,
 "nbformat_minor": 2
}
