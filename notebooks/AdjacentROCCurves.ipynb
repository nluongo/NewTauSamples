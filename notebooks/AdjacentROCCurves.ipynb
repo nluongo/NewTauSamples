{
 "cells": [
  {
   "cell_type": "code",
   "execution_count": 16,
   "metadata": {},
   "outputs": [
    {
     "name": "stderr",
     "output_type": "stream",
     "text": [
      "WARNING: Logging before flag parsing goes to stderr.\n",
      "W1002 17:53:22.410279 140646277216064 deprecation_wrapper.py:119] From /eos/user/n/nicholas/SWAN_projects/ROOTModules/NNDefs.py:4: The name tf.set_random_seed is deprecated. Please use tf.compat.v1.set_random_seed instead.\n",
      "\n"
     ]
    }
   ],
   "source": [
    "import ROOT\n",
    "from ROOT import TCanvas, TH1F, TLegend, TGraph, TFile\n",
    "from ROOTClassDefs import Tree\n",
    "from ROOTDefs import set_po_tree_parameters\n",
    "from ROCCurveDefs import et_roc_curve\n",
    "import numpy as np\n",
    "import pandas as pd\n",
    "import random\n",
    "import matplotlib.pyplot as plt\n",
    "\n",
    "#random.seed(7)\n",
    "#np.random.seed(7)"
   ]
  },
  {
   "cell_type": "code",
   "execution_count": 14,
   "metadata": {},
   "outputs": [],
   "source": [
    "fsig = TFile('/eos/user/n/nicholas/SWAN_projects/NewTauSamples/dataFiles/sig_ntuple.root')\n",
    "tsig = Tree(fsig.Get('mytree'))\n",
    "set_po_tree_parameters(tsig)\n",
    "\n",
    "fback = TFile('/eos/user/n/nicholas/SWAN_projects/NewTauSamples/dataFiles/back_ntuple_abr.root')\n",
    "tback = Tree(fback.Get('mytree'))\n",
    "set_po_tree_parameters(tback)"
   ]
  },
  {
   "cell_type": "code",
   "execution_count": 17,
   "metadata": {},
   "outputs": [
    {
     "name": "stdout",
     "output_type": "stream",
     "text": [
      "Values exist above defined maximum\n",
      "Values exist above defined maximum\n",
      "Values exist above defined maximum\n",
      "Values exist above defined maximum\n",
      "Values exist above defined maximum\n",
      "Values exist above defined maximum\n"
     ]
    }
   ],
   "source": [
    "gr0 = et_roc_curve(tsig, tback, 100, 0, 100)\n",
    "\n",
    "new_adj_dict = {4: -1, 5: -1, 6: 1, 7: 1}\n",
    "tsig.set_adjacent_eta_cells(new_adj_dict)\n",
    "tback.set_adjacent_eta_cells(new_adj_dict)\n",
    "\n",
    "gr1 = et_roc_curve(tsig, tback, 100, 0, 100)\n",
    "\n",
    "new_adj_dict = {4: 0, 5: 0, 6: 0, 7: 0}\n",
    "tsig.set_adjacent_eta_cells(new_adj_dict)\n",
    "tback.set_adjacent_eta_cells(new_adj_dict)\n",
    "\n",
    "gr2 = et_roc_curve(tsig, tback, 100, 0, 100)"
   ]
  },
  {
   "cell_type": "code",
   "execution_count": 19,
   "metadata": {},
   "outputs": [
    {
     "data": {
      "text/html": [
       "\n",
       "<div id=\"root_plot_1\"\n",
       "     style=\"width: 596px; height: 372px\">\n",
       "</div>\n",
       "\n",
       "<script>\n",
       " requirejs.config({\n",
       "     paths: {\n",
       "       'JSRootCore' : 'https://root.cern.ch/js/notebook//scripts/JSRootCore',\n",
       "     }\n",
       "   });\n",
       " require(['JSRootCore'],\n",
       "     function(Core) {\n",
       "       var obj = Core.JSONR_unref({\"_typename\":\"TCanvas\",\"fUniqueID\":0,\"fBits\":53673992,\"fLineColor\":1,\"fLineStyle\":1,\"fLineWidth\":1,\"fFillColor\":0,\"fFillStyle\":1001,\"fLeftMargin\":0.1,\"fRightMargin\":0.1,\"fBottomMargin\":0.1,\"fTopMargin\":0.1,\"fXfile\":2,\"fYfile\":2,\"fAfile\":1,\"fXstat\":0.99,\"fYstat\":0.99,\"fAstat\":2,\"fFrameFillColor\":0,\"fFrameLineColor\":1,\"fFrameFillStyle\":1001,\"fFrameLineStyle\":1,\"fFrameLineWidth\":1,\"fFrameBorderSize\":1,\"fFrameBorderMode\":0,\"fX1\":-0.026124930696459,\"fY1\":0.774999998137355,\"fX2\":0.235124360696459,\"fY2\":1.02500000186265,\"fXtoAbsPixelk\":59.600053552437,\"fXtoPixelk\":59.600053552437,\"fXtoPixel\":2281.3459007765,\"fYtoAbsPixelk\":1525.20003004436,\"fYtoPixelk\":1525.20003004436,\"fYtoPixel\":-1487.99997782707,\"fUtoAbsPixelk\":5e-5,\"fUtoPixelk\":5e-5,\"fUtoPixel\":596,\"fVtoAbsPixelk\":372.00005,\"fVtoPixelk\":372,\"fVtoPixel\":-372,\"fAbsPixeltoXk\":-0.026124930696459,\"fPixeltoXk\":-0.026124930696459,\"fPixeltoX\":4.3833773723644e-4,\"fAbsPixeltoYk\":1.02500000186265,\"fPixeltoYk\":0.774999998137355,\"fPixeltoY\":-6.7204302076691e-4,\"fXlowNDC\":0,\"fYlowNDC\":0,\"fXUpNDC\":0,\"fYUpNDC\":0,\"fWNDC\":1,\"fHNDC\":1,\"fAbsXlowNDC\":0,\"fAbsYlowNDC\":0,\"fAbsWNDC\":1,\"fAbsHNDC\":1,\"fUxmin\":0,\"fUymin\":0.8,\"fUxmax\":0.20899943,\"fUymax\":1,\"fTheta\":30,\"fPhi\":30,\"fAspectRatio\":0,\"fNumber\":0,\"fTickx\":0,\"fTicky\":0,\"fLogx\":0,\"fLogy\":0,\"fLogz\":0,\"fPadPaint\":0,\"fCrosshair\":0,\"fCrosshairPos\":0,\"fBorderSize\":2,\"fBorderMode\":0,\"fModified\":false,\"fGridx\":false,\"fGridy\":false,\"fAbsCoord\":false,\"fEditable\":true,\"fFixedAspectRatio\":false,\"fPrimitives\":{\"_typename\":\"TList\",\"name\":\"TList\",\"arr\":[{\"_typename\":\"TFrame\",\"fUniqueID\":0,\"fBits\":50331656,\"fLineColor\":1,\"fLineStyle\":1,\"fLineWidth\":1,\"fFillColor\":0,\"fFillStyle\":1001,\"fX1\":0,\"fY1\":0.8,\"fX2\":0.20899943,\"fY2\":1,\"fBorderSize\":1,\"fBorderMode\":0},{\"_typename\":\"TGraph\",\"fUniqueID\":0,\"fBits\":50332680,\"fName\":\"Graph\",\"fTitle\":\"Training Scenario ROC Curves\",\"fLineColor\":1,\"fLineStyle\":1,\"fLineWidth\":1,\"fFillColor\":0,\"fFillStyle\":1000,\"fMarkerColor\":1,\"fMarkerStyle\":1,\"fMarkerSize\":1,\"fNpoints\":100,\"fX\":[1,0.99995,0.94845,0.64114,0.35692,0.20447,0.12314,0.08011,0.05591,0.04068,0.03053,0.02318,0.01853,0.01484,0.01188,0.0099,0.00821,0.00689,0.00599,0.00527,0.0045,0.00375,0.00327,0.00286,0.00262,0.00231,0.00207,0.00187,0.00173,0.00157,0.00141,0.00123,0.00114,0.00106,9.6e-4,8.5e-4,7.8e-4,7.2e-4,6.4e-4,6.1e-4,5.7e-4,5.4e-4,5.1e-4,4.7e-4,4.4e-4,4.2e-4,4e-4,3.6e-4,3.2e-4,2.9e-4,2.6e-4,2.5e-4,2.3e-4,2.3e-4,2.1e-4,1.9e-4,1.8e-4,1.8e-4,1.8e-4,1.6e-4,1.5e-4,1.4e-4,1.3e-4,1.3e-4,1.2e-4,1.1e-4,1.1e-4,1.1e-4,9e-5,8e-5,6e-5,6e-5,5e-5,5e-5,5e-5,5e-5,4e-5,4e-5,4e-5,4e-5,4e-5,4e-5,4e-5,3e-5,3e-5,3e-5,3e-5,3e-5,3e-5,3e-5,3e-5,3e-5,3e-5,3e-5,3e-5,3e-5,3e-5,3e-5,3e-5,3e-5],\"fY\":[1,1,0.99951472015529,0.994176641863475,0.980346166289227,0.960207052733743,0.9318990617923,0.893157554189583,0.849846328049175,0.805807182141702,0.760554836622452,0.716798770624393,0.669888385635717,0.627264639275315,0.584721772889033,0.543998705920414,0.501941119378842,0.46546425105144,0.427814623099321,0.394047233904885,0.357893885473957,0.327159495308961,0.29723390488515,0.270219993529602,0.244823681656422,0.221772889032676,0.199571336137172,0.179068262698156,0.160263668715626,0.14530087350372,0.130499838240052,0.117033322549337,0.105993206082174,0.0949126496279521,0.0852070527337431,0.0770786153348431,0.0689097379488839,0.062196700097056,0.0558880621158201,0.0518845033969589,0.0475169847945649,0.042785506308638,0.0389032675509544,0.0355063086379812,0.0324733096085409,0.0302491103202847,0.0283079909414429,0.0265286315108379,0.0248301520543513,0.0233338725331608,0.0214331931413782,0.0196942736978324,0.0182384341637011,0.0171061145260434,0.0159333549013264,0.0147605952766095,0.0139922355224846,0.0130216758330637,0.0124959560012941,0.0117275962471692,0.0110805564542219,0.0106761565836299,0.0102717567130379,0.0097460368812682,0.00934163701067616,0.0088159171789065,0.00845195729537367,0.0078049175024264,0.00760271756713038,0.00711743772241993,0.0068747978000647,0.00634907796829505,0.00606599805888062,0.00598511808476221,0.00570203817534778,0.00541895826593335,0.00505499838240052,0.0048527984471045,0.00432707861533484,0.00404399870592041,0.00396311873180201,0.00363959883532837,0.00339695891297315,0.00319475897767713,0.00299255904238111,0.00283079909414429,0.00270947913296668,0.00262859915884827,0.00262859915884827,0.00238595923649304,0.00234551924943384,0.00218375930119702,0.00206243934001941,0.001981559365901,0.00190067939178259,0.00186023940472339,0.00173891944354578,0.00173891944354578,0.00157715949530896,0.00141539954707214],\"fFunctions\":{\"_typename\":\"TList\",\"name\":\"TList\",\"arr\":[],\"opt\":[]},\"fHistogram\":{\"_typename\":\"TH1F\",\"fUniqueID\":0,\"fBits\":50332168,\"fName\":\"Graph\",\"fTitle\":\"Training Scenario ROC Curves\",\"fLineColor\":602,\"fLineStyle\":1,\"fLineWidth\":1,\"fFillColor\":0,\"fFillStyle\":1001,\"fMarkerColor\":1,\"fMarkerStyle\":1,\"fMarkerSize\":1,\"fNcells\":102,\"fXaxis\":{\"_typename\":\"TAxis\",\"fUniqueID\":0,\"fBits\":50333704,\"fName\":\"xaxis\",\"fTitle\":\"Background Efficiency\",\"fNdivisions\":510,\"fAxisColor\":1,\"fLabelColor\":1,\"fLabelFont\":42,\"fLabelOffset\":0.005,\"fLabelSize\":0.035,\"fTickLength\":0.03,\"fTitleOffset\":1,\"fTitleSize\":0.035,\"fTitleColor\":1,\"fTitleFont\":42,\"fNbins\":100,\"fXmin\":0,\"fXmax\":1.099997,\"fXbins\":[],\"fFirst\":1,\"fLast\":19,\"fBits2\":0,\"fTimeDisplay\":false,\"fTimeFormat\":\"\",\"fLabels\":null,\"fModLabs\":null},\"fYaxis\":{\"_typename\":\"TAxis\",\"fUniqueID\":0,\"fBits\":50331656,\"fName\":\"yaxis\",\"fTitle\":\"Signal Efficiency\",\"fNdivisions\":510,\"fAxisColor\":1,\"fLabelColor\":1,\"fLabelFont\":42,\"fLabelOffset\":0.005,\"fLabelSize\":0.035,\"fTickLength\":0.03,\"fTitleOffset\":0,\"fTitleSize\":0.035,\"fTitleColor\":1,\"fTitleFont\":42,\"fNbins\":1,\"fXmin\":0.00127385959236493,\"fXmax\":1.09985846004529,\"fXbins\":[],\"fFirst\":0,\"fLast\":0,\"fBits2\":0,\"fTimeDisplay\":false,\"fTimeFormat\":\"\",\"fLabels\":null,\"fModLabs\":null},\"fZaxis\":{\"_typename\":\"TAxis\",\"fUniqueID\":0,\"fBits\":50331648,\"fName\":\"zaxis\",\"fTitle\":\"\",\"fNdivisions\":510,\"fAxisColor\":1,\"fLabelColor\":1,\"fLabelFont\":42,\"fLabelOffset\":0.005,\"fLabelSize\":0.035,\"fTickLength\":0.03,\"fTitleOffset\":1,\"fTitleSize\":0.035,\"fTitleColor\":1,\"fTitleFont\":42,\"fNbins\":1,\"fXmin\":0,\"fXmax\":1,\"fXbins\":[],\"fFirst\":0,\"fLast\":0,\"fBits2\":0,\"fTimeDisplay\":false,\"fTimeFormat\":\"\",\"fLabels\":null,\"fModLabs\":null},\"fBarOffset\":0,\"fBarWidth\":1000,\"fEntries\":0,\"fTsumw\":0,\"fTsumw2\":0,\"fTsumwx\":0,\"fTsumwx2\":0,\"fMaximum\":1,\"fMinimum\":0.8,\"fNormFactor\":0,\"fContour\":[],\"fSumw2\":[],\"fOption\":\"\",\"fFunctions\":{\"_typename\":\"TList\",\"name\":\"TList\",\"arr\":[],\"opt\":[]},\"fBufferSize\":0,\"fBuffer\":[],\"fBinStatErrOpt\":0,\"fStatOverflows\":2,\"fArray\":[0,0,0,0,0,0,0,0,0,0,0,0,0,0,0,0,0,0,0,0,0,0,0,0,0,0,0,0,0,0,0,0,0,0,0,0,0,0,0,0,0,0,0,0,0,0,0,0,0,0,0,0,0,0,0,0,0,0,0,0,0,0,0,0,0,0,0,0,0,0,0,0,0,0,0,0,0,0,0,0,0,0,0,0,0,0,0,0,0,0,0,0,0,0,0,0,0,0,0,0,0,0]},\"fMinimum\":0.8,\"fMaximum\":1},{\"_typename\":\"TGraph\",\"fUniqueID\":0,\"fBits\":50332680,\"fName\":\"Graph\",\"fTitle\":\"Graph\",\"fLineColor\":4,\"fLineStyle\":1,\"fLineWidth\":1,\"fFillColor\":0,\"fFillStyle\":1000,\"fMarkerColor\":1,\"fMarkerStyle\":1,\"fMarkerSize\":1,\"fNpoints\":100,\"fX\":[1,0.99997,0.95762,0.66646,0.37519,0.21502,0.12945,0.08376,0.05822,0.04228,0.03172,0.02399,0.01917,0.01542,0.01219,0.01027,0.00848,0.007,0.00618,0.00537,0.00456,0.00384,0.00339,0.00294,0.00268,0.00238,0.00212,0.00193,0.00177,0.0016,0.00144,0.00125,0.00116,0.0011,9.8e-4,8.7e-4,8.1e-4,7.3e-4,6.6e-4,6.3e-4,5.9e-4,5.4e-4,5.2e-4,4.7e-4,4.4e-4,4.3e-4,4e-4,3.6e-4,3.3e-4,3e-4,2.7e-4,2.5e-4,2.3e-4,2.3e-4,2.2e-4,2e-4,1.9e-4,1.9e-4,1.8e-4,1.6e-4,1.5e-4,1.4e-4,1.3e-4,1.3e-4,1.3e-4,1.2e-4,1.1e-4,1.1e-4,9e-5,8e-5,6e-5,6e-5,5e-5,5e-5,5e-5,5e-5,4e-5,4e-5,4e-5,4e-5,4e-5,4e-5,4e-5,3e-5,3e-5,3e-5,3e-5,3e-5,3e-5,3e-5,3e-5,3e-5,3e-5,3e-5,3e-5,3e-5,3e-5,3e-5,3e-5,3e-5],\"fY\":[1,1,0.999636040116467,0.994742801682303,0.981235846004529,0.962148172112585,0.934891620834681,0.897161112908444,0.854941766418635,0.811549660304109,0.765286315108379,0.721368489162084,0.675024263992235,0.631389517955354,0.589695891297315,0.548932384341637,0.506349077968295,0.469670009705597,0.431656421869945,0.397727272727273,0.361735684244581,0.330596894208994,0.300105143966354,0.273697832416694,0.247573600776448,0.22407796829505,0.201876415399547,0.180807182141702,0.162245228081527,0.146756713037852,0.132521837593012,0.118044322225817,0.106842445810417,0.095681009382077,0.0861371724361048,0.077846975088968,0.0696780977030087,0.0629246198641217,0.0564137819475898,0.0523697832416694,0.0477191847298609,0.0431090262051116,0.0393481074086056,0.0356276285991588,0.0325541895826593,0.0303704302814623,0.0283888709155613,0.0266095114849563,0.024951472015529,0.0234147525072792,0.0218780329990294,0.0199369136201876,0.0183597541248787,0.0172678744742802,0.0161355548366225,0.0148010352636687,0.0140326755095438,0.0130621158201229,0.0124959560012941,0.0117680362342284,0.0111614364283403,0.0107570365577483,0.0103526366871563,0.0097460368812682,0.00942251698479456,0.00885635716596571,0.00845195729537367,0.00788579747654481,0.00760271756713038,0.00715787770947913,0.0068747978000647,0.00638951795535425,0.00614687803299903,0.00598511808476221,0.00570203817534778,0.00541895826593335,0.00509543836945972,0.0048527984471045,0.00436751860239405,0.00408443869297962,0.00396311873180201,0.00363959883532837,0.00339695891297315,0.00327563895179554,0.00299255904238111,0.00283079909414429,0.00270947913296668,0.00262859915884827,0.00262859915884827,0.00242639922355225,0.00234551924943384,0.00226463927531543,0.00210287932707862,0.00202199935296021,0.00190067939178259,0.00186023940472339,0.00173891944354578,0.00173891944354578,0.00157715949530896,0.00145583953413135],\"fFunctions\":{\"_typename\":\"TList\",\"name\":\"TList\",\"arr\":[],\"opt\":[]},\"fHistogram\":{\"_typename\":\"TH1F\",\"fUniqueID\":0,\"fBits\":50332168,\"fName\":\"Graph\",\"fTitle\":\"Graph\",\"fLineColor\":602,\"fLineStyle\":1,\"fLineWidth\":1,\"fFillColor\":0,\"fFillStyle\":1001,\"fMarkerColor\":1,\"fMarkerStyle\":1,\"fMarkerSize\":1,\"fNcells\":102,\"fXaxis\":{\"_typename\":\"TAxis\",\"fUniqueID\":0,\"fBits\":50331648,\"fName\":\"xaxis\",\"fTitle\":\"\",\"fNdivisions\":510,\"fAxisColor\":1,\"fLabelColor\":1,\"fLabelFont\":42,\"fLabelOffset\":0.005,\"fLabelSize\":0.035,\"fTickLength\":0.03,\"fTitleOffset\":1,\"fTitleSize\":0.035,\"fTitleColor\":1,\"fTitleFont\":42,\"fNbins\":100,\"fXmin\":0,\"fXmax\":1.099997,\"fXbins\":[],\"fFirst\":0,\"fLast\":0,\"fBits2\":0,\"fTimeDisplay\":false,\"fTimeFormat\":\"\",\"fLabels\":null,\"fModLabs\":null},\"fYaxis\":{\"_typename\":\"TAxis\",\"fUniqueID\":0,\"fBits\":50331648,\"fName\":\"yaxis\",\"fTitle\":\"\",\"fNdivisions\":510,\"fAxisColor\":1,\"fLabelColor\":1,\"fLabelFont\":42,\"fLabelOffset\":0.005,\"fLabelSize\":0.035,\"fTickLength\":0.03,\"fTitleOffset\":0,\"fTitleSize\":0.035,\"fTitleColor\":1,\"fTitleFont\":42,\"fNbins\":1,\"fXmin\":0.00131025558071821,\"fXmax\":1.09985441604659,\"fXbins\":[],\"fFirst\":0,\"fLast\":0,\"fBits2\":0,\"fTimeDisplay\":false,\"fTimeFormat\":\"\",\"fLabels\":null,\"fModLabs\":null},\"fZaxis\":{\"_typename\":\"TAxis\",\"fUniqueID\":0,\"fBits\":50331648,\"fName\":\"zaxis\",\"fTitle\":\"\",\"fNdivisions\":510,\"fAxisColor\":1,\"fLabelColor\":1,\"fLabelFont\":42,\"fLabelOffset\":0.005,\"fLabelSize\":0.035,\"fTickLength\":0.03,\"fTitleOffset\":1,\"fTitleSize\":0.035,\"fTitleColor\":1,\"fTitleFont\":42,\"fNbins\":1,\"fXmin\":0,\"fXmax\":1,\"fXbins\":[],\"fFirst\":0,\"fLast\":0,\"fBits2\":0,\"fTimeDisplay\":false,\"fTimeFormat\":\"\",\"fLabels\":null,\"fModLabs\":null},\"fBarOffset\":0,\"fBarWidth\":1000,\"fEntries\":0,\"fTsumw\":0,\"fTsumw2\":0,\"fTsumwx\":0,\"fTsumwx2\":0,\"fMaximum\":1.09985441604659,\"fMinimum\":0.00131025558071821,\"fNormFactor\":0,\"fContour\":[],\"fSumw2\":[],\"fOption\":\"\",\"fFunctions\":{\"_typename\":\"TList\",\"name\":\"TList\",\"arr\":[],\"opt\":[]},\"fBufferSize\":0,\"fBuffer\":[],\"fBinStatErrOpt\":0,\"fStatOverflows\":2,\"fArray\":[0,0,0,0,0,0,0,0,0,0,0,0,0,0,0,0,0,0,0,0,0,0,0,0,0,0,0,0,0,0,0,0,0,0,0,0,0,0,0,0,0,0,0,0,0,0,0,0,0,0,0,0,0,0,0,0,0,0,0,0,0,0,0,0,0,0,0,0,0,0,0,0,0,0,0,0,0,0,0,0,0,0,0,0,0,0,0,0,0,0,0,0,0,0,0,0,0,0,0,0,0,0]},\"fMinimum\":-1111,\"fMaximum\":-1111},{\"_typename\":\"TGraph\",\"fUniqueID\":0,\"fBits\":50332680,\"fName\":\"Graph\",\"fTitle\":\"Graph\",\"fLineColor\":8,\"fLineStyle\":1,\"fLineWidth\":1,\"fFillColor\":0,\"fFillStyle\":1000,\"fMarkerColor\":1,\"fMarkerStyle\":1,\"fMarkerSize\":1,\"fNpoints\":100,\"fX\":[1,0.99992,0.9399,0.6151,0.33775,0.19257,0.1161,0.07592,0.05313,0.03894,0.02908,0.02222,0.01768,0.01424,0.01152,0.00956,0.00783,0.00673,0.00588,0.00518,0.00429,0.0036,0.00311,0.00273,0.00251,0.00229,0.00204,0.0018,0.00165,0.00147,0.00134,0.00117,0.00109,0.001,9.1e-4,8.3e-4,7.1e-4,6.7e-4,6.2e-4,5.9e-4,5.5e-4,5.4e-4,4.9e-4,4.4e-4,4.2e-4,4e-4,3.8e-4,3.3e-4,3.2e-4,2.8e-4,2.6e-4,2.5e-4,2.3e-4,2.3e-4,2e-4,1.9e-4,1.8e-4,1.8e-4,1.6e-4,1.5e-4,1.5e-4,1.4e-4,1.3e-4,1.3e-4,1.2e-4,1.1e-4,1e-4,1e-4,8e-5,5e-5,5e-5,5e-5,5e-5,5e-5,5e-5,4e-5,4e-5,4e-5,4e-5,4e-5,4e-5,4e-5,4e-5,3e-5,3e-5,3e-5,3e-5,3e-5,3e-5,3e-5,3e-5,3e-5,3e-5,3e-5,3e-5,3e-5,3e-5,3e-5,3e-5,3e-5],\"fY\":[1,1,0.999352960207053,0.993529602070527,0.978971206729214,0.958063733419605,0.927976383047557,0.888668715626011,0.845317049498544,0.800347783888709,0.755823358136525,0.710611452604335,0.665318667098027,0.621279521190553,0.578857974765448,0.537892267874474,0.497007440957619,0.45988353283727,0.422597864768683,0.388345195729537,0.352717567130378,0.322468456810094,0.293311226140408,0.266216434810741,0.241022322872857,0.218659010029117,0.196174377224199,0.176075703655775,0.157392429634423,0.142874474280168,0.128235198964736,0.11484956324814,0.104011646716273,0.0932141701714655,0.0833872533160789,0.0755823358136525,0.0674538984147525,0.0610643804593983,0.055079262374636,0.0509948236816564,0.0464655451310256,0.0420575865415723,0.0382966677450663,0.0348997088320932,0.0319475897767713,0.0298851504367519,0.0278227110967324,0.0262051116143643,0.0245470721449369,0.022969912649628,0.0209074733096085,0.019411193788418,0.0179957942413458,0.0169847945648657,0.0158120349401488,0.0145988353283727,0.0137495956001294,0.0129003558718861,0.0122128760918797,0.0116467162730508,0.0109996764801035,0.0105143966353931,0.0102313167259786,0.00970559689420899,0.00917987706243934,0.00865415723066969,0.00829019734713685,0.00772403752830799,0.00744095761889356,0.00703655774830152,0.00675347783888709,0.00630863798123585,0.00602555807182142,0.0059042381106438,0.00566159818828858,0.00529763830475574,0.00505499838240052,0.00481235846004529,0.00428663862827564,0.00400355871886121,0.00396311873180201,0.00359915884826917,0.00339695891297315,0.00315431899061792,0.00299255904238111,0.00283079909414429,0.00270947913296668,0.00262859915884827,0.00258815917178907,0.00238595923649304,0.00226463927531543,0.00210287932707862,0.00206243934001941,0.0019411193788418,0.00190067939178259,0.00186023940472339,0.00173891944354578,0.00169847945648657,0.00153671950824976,0.00141539954707214],\"fFunctions\":{\"_typename\":\"TList\",\"name\":\"TList\",\"arr\":[],\"opt\":[]},\"fHistogram\":{\"_typename\":\"TH1F\",\"fUniqueID\":0,\"fBits\":50332168,\"fName\":\"Graph\",\"fTitle\":\"Graph\",\"fLineColor\":602,\"fLineStyle\":1,\"fLineWidth\":1,\"fFillColor\":0,\"fFillStyle\":1001,\"fMarkerColor\":1,\"fMarkerStyle\":1,\"fMarkerSize\":1,\"fNcells\":102,\"fXaxis\":{\"_typename\":\"TAxis\",\"fUniqueID\":0,\"fBits\":50331648,\"fName\":\"xaxis\",\"fTitle\":\"\",\"fNdivisions\":510,\"fAxisColor\":1,\"fLabelColor\":1,\"fLabelFont\":42,\"fLabelOffset\":0.005,\"fLabelSize\":0.035,\"fTickLength\":0.03,\"fTitleOffset\":1,\"fTitleSize\":0.035,\"fTitleColor\":1,\"fTitleFont\":42,\"fNbins\":100,\"fXmin\":0,\"fXmax\":1.099997,\"fXbins\":[],\"fFirst\":0,\"fLast\":0,\"fBits2\":0,\"fTimeDisplay\":false,\"fTimeFormat\":\"\",\"fLabels\":null,\"fModLabs\":null},\"fYaxis\":{\"_typename\":\"TAxis\",\"fUniqueID\":0,\"fBits\":50331648,\"fName\":\"yaxis\",\"fTitle\":\"\",\"fNdivisions\":510,\"fAxisColor\":1,\"fLabelColor\":1,\"fLabelFont\":42,\"fLabelOffset\":0.005,\"fLabelSize\":0.035,\"fTickLength\":0.03,\"fTitleOffset\":0,\"fTitleSize\":0.035,\"fTitleColor\":1,\"fTitleFont\":42,\"fNbins\":1,\"fXmin\":0.00127385959236493,\"fXmax\":1.09985846004529,\"fXbins\":[],\"fFirst\":0,\"fLast\":0,\"fBits2\":0,\"fTimeDisplay\":false,\"fTimeFormat\":\"\",\"fLabels\":null,\"fModLabs\":null},\"fZaxis\":{\"_typename\":\"TAxis\",\"fUniqueID\":0,\"fBits\":50331648,\"fName\":\"zaxis\",\"fTitle\":\"\",\"fNdivisions\":510,\"fAxisColor\":1,\"fLabelColor\":1,\"fLabelFont\":42,\"fLabelOffset\":0.005,\"fLabelSize\":0.035,\"fTickLength\":0.03,\"fTitleOffset\":1,\"fTitleSize\":0.035,\"fTitleColor\":1,\"fTitleFont\":42,\"fNbins\":1,\"fXmin\":0,\"fXmax\":1,\"fXbins\":[],\"fFirst\":0,\"fLast\":0,\"fBits2\":0,\"fTimeDisplay\":false,\"fTimeFormat\":\"\",\"fLabels\":null,\"fModLabs\":null},\"fBarOffset\":0,\"fBarWidth\":1000,\"fEntries\":0,\"fTsumw\":0,\"fTsumw2\":0,\"fTsumwx\":0,\"fTsumwx2\":0,\"fMaximum\":1.09985846004529,\"fMinimum\":0.00127385959236493,\"fNormFactor\":0,\"fContour\":[],\"fSumw2\":[],\"fOption\":\"\",\"fFunctions\":{\"_typename\":\"TList\",\"name\":\"TList\",\"arr\":[],\"opt\":[]},\"fBufferSize\":0,\"fBuffer\":[],\"fBinStatErrOpt\":0,\"fStatOverflows\":2,\"fArray\":[0,0,0,0,0,0,0,0,0,0,0,0,0,0,0,0,0,0,0,0,0,0,0,0,0,0,0,0,0,0,0,0,0,0,0,0,0,0,0,0,0,0,0,0,0,0,0,0,0,0,0,0,0,0,0,0,0,0,0,0,0,0,0,0,0,0,0,0,0,0,0,0,0,0,0,0,0,0,0,0,0,0,0,0,0,0,0,0,0,0,0,0,0,0,0,0,0,0,0,0,0,0]},\"fMinimum\":-1111,\"fMaximum\":-1111},{\"_typename\":\"TLegend\",\"fUniqueID\":0,\"fBits\":50331656,\"fLineColor\":1,\"fLineStyle\":1,\"fLineWidth\":1,\"fFillColor\":0,\"fFillStyle\":1001,\"fX1\":0.0914372504303541,\"fY1\":0.799999998509884,\"fX2\":0.208999431557167,\"fY2\":0.849999999254942,\"fX1NDC\":0.45,\"fY1NDC\":0.1,\"fX2NDC\":0.9,\"fY2NDC\":0.3,\"fBorderSize\":1,\"fInit\":1,\"fShadowColor\":1,\"fCornerRadius\":0,\"fOption\":\"brNDC\",\"fName\":\"TPave\",\"fTextAngle\":0,\"fTextSize\":0.02,\"fTextAlign\":12,\"fTextColor\":1,\"fTextFont\":42,\"fPrimitives\":{\"_typename\":\"TList\",\"name\":\"TList\",\"arr\":[{\"_typename\":\"TLegendEntry\",\"fUniqueID\":0,\"fBits\":50331648,\"fTextAngle\":0,\"fTextSize\":0,\"fTextAlign\":0,\"fTextColor\":0,\"fTextFont\":42,\"fLineColor\":1,\"fLineStyle\":1,\"fLineWidth\":1,\"fFillColor\":0,\"fFillStyle\":0,\"fMarkerColor\":1,\"fMarkerStyle\":21,\"fMarkerSize\":1,\"fObject\":null,\"fLabel\":\"Layer Configuration\",\"fOption\":\"h\"},{\"_typename\":\"TLegendEntry\",\"fUniqueID\":0,\"fBits\":50331656,\"fTextAngle\":0,\"fTextSize\":0,\"fTextAlign\":0,\"fTextColor\":0,\"fTextFont\":42,\"fLineColor\":1,\"fLineStyle\":1,\"fLineWidth\":1,\"fFillColor\":0,\"fFillStyle\":1000,\"fMarkerColor\":1,\"fMarkerStyle\":1,\"fMarkerSize\":1,\"fObject\":{\"$ref\":3},\"fLabel\":\"Loose adjacent\",\"fOption\":\"lpf\"},{\"_typename\":\"TLegendEntry\",\"fUniqueID\":0,\"fBits\":50331656,\"fTextAngle\":0,\"fTextSize\":0,\"fTextAlign\":0,\"fTextColor\":0,\"fTextFont\":42,\"fLineColor\":4,\"fLineStyle\":1,\"fLineWidth\":1,\"fFillColor\":0,\"fFillStyle\":1000,\"fMarkerColor\":1,\"fMarkerStyle\":1,\"fMarkerSize\":1,\"fObject\":{\"$ref\":10},\"fLabel\":\"Tight adjancent\",\"fOption\":\"lpf\"},{\"_typename\":\"TLegendEntry\",\"fUniqueID\":0,\"fBits\":50331656,\"fTextAngle\":0,\"fTextSize\":0,\"fTextAlign\":0,\"fTextColor\":0,\"fTextFont\":42,\"fLineColor\":8,\"fLineStyle\":1,\"fLineWidth\":1,\"fFillColor\":0,\"fFillStyle\":1000,\"fMarkerColor\":1,\"fMarkerStyle\":1,\"fMarkerSize\":1,\"fObject\":{\"$ref\":17},\"fLabel\":\"No adjacent\",\"fOption\":\"lpf\"}],\"opt\":[\"h\",\"lpf\",\"lpf\",\"lpf\"]},\"fEntrySeparation\":0.1,\"fMargin\":0.25,\"fNColumns\":1,\"fColumnSeparation\":0},{\"_typename\":\"TPaveText\",\"fUniqueID\":0,\"fBits\":50331657,\"fLineColor\":1,\"fLineStyle\":1,\"fLineWidth\":1,\"fFillColor\":0,\"fFillStyle\":0,\"fX1\":0.0409582766102057,\"fY1\":1.00762097053771,\"fX2\":0.168041153389794,\"fY2\":1.02375000303611,\"fX1NDC\":0.256778523489933,\"fY1NDC\":0.930483875736113,\"fX2NDC\":0.743221476510067,\"fY2NDC\":0.995000004768372,\"fBorderSize\":0,\"fInit\":1,\"fShadowColor\":1,\"fCornerRadius\":0,\"fOption\":\"blNDC\",\"fName\":\"title\",\"fTextAngle\":0,\"fTextSize\":0,\"fTextAlign\":22,\"fTextColor\":1,\"fTextFont\":42,\"fLabel\":\"\",\"fLongest\":28,\"fMargin\":0.05,\"fLines\":{\"_typename\":\"TList\",\"name\":\"TList\",\"arr\":[{\"_typename\":\"TLatex\",\"fUniqueID\":0,\"fBits\":50331648,\"fName\":\"\",\"fTitle\":\"Training Scenario ROC Curves\",\"fTextAngle\":0,\"fTextSize\":0,\"fTextAlign\":0,\"fTextColor\":0,\"fTextFont\":0,\"fX\":0,\"fY\":0,\"fLineColor\":1,\"fLineStyle\":1,\"fLineWidth\":2,\"fLimitFactorSize\":3,\"fOriginSize\":0.0548387095332146}],\"opt\":[\"\"]}}],\"opt\":[\"\",\"alp\",\"\",\"\",\"\",\"blNDC\"]},\"fExecs\":null,\"fName\":\"c1\",\"fTitle\":\"Graph Draw Options\",\"fNumPaletteColor\":0,\"fNextPaletteColor\":0,\"fDISPLAY\":\"$DISPLAY\",\"fDoubleBuffer\":0,\"fRetained\":true,\"fXsizeUser\":0,\"fYsizeUser\":0,\"fXsizeReal\":20,\"fYsizeReal\":13.33333,\"fWindowTopX\":0,\"fWindowTopY\":0,\"fWindowWidth\":0,\"fWindowHeight\":0,\"fCw\":596,\"fCh\":372,\"fCatt\":{\"_typename\":\"TAttCanvas\",\"fXBetween\":2,\"fYBetween\":2,\"fTitleFromTop\":1.2,\"fXdate\":0.2,\"fYdate\":0.3,\"fAdate\":1},\"kMoveOpaque\":true,\"kResizeOpaque\":true,\"fHighLightColor\":2,\"fBatch\":true,\"kShowEventStatus\":false,\"kAutoExec\":true,\"kMenuBar\":true});\n",
       "       Core.draw(\"root_plot_1\", obj, \"\");\n",
       "     }\n",
       " );\n",
       "</script>\n"
      ],
      "text/plain": [
       "<IPython.core.display.HTML object>"
      ]
     },
     "metadata": {},
     "output_type": "display_data"
    }
   ],
   "source": [
    "#c1.Close()\n",
    "c1 = TCanvas(\"c1\", \"Graph Draw Options\", 200, 10, 600, 400)\n",
    "\n",
    "%jsroot on\n",
    "gr0.Draw()\n",
    "gr0.SetTitle('Training Scenario ROC Curves')\n",
    "gr0.GetXaxis().SetTitle('Background Efficiency')\n",
    "gr0.GetYaxis().SetTitle('Signal Efficiency')\n",
    "gr0.SetMaximum(1)\n",
    "gr0.SetMinimum(0.8)\n",
    "gr0.GetXaxis().SetRangeUser(0, 0.2)\n",
    "gr1.Draw('same')\n",
    "gr1.SetLineColor(4)\n",
    "gr2.Draw('same')\n",
    "gr2.SetLineColor(8)\n",
    "\n",
    "leg = TLegend(0.45, 0.1, 0.9, 0.3)\n",
    "leg.SetHeader('Layer Configuration')\n",
    "leg.AddEntry(gr0, 'Loose adjacent')\n",
    "leg.AddEntry(gr1, 'Tight adjancent')\n",
    "leg.AddEntry(gr2, 'No adjacent')\n",
    "leg.SetTextSize(0.02)\n",
    "leg.Draw()\n",
    "c1.Update()\n",
    "c1.Draw()\n",
    "#c1.Print('SelectROCCurves.pdf')"
   ]
  },
  {
   "cell_type": "code",
   "execution_count": null,
   "metadata": {
    "scrolled": true
   },
   "outputs": [],
   "source": []
  },
  {
   "cell_type": "code",
   "execution_count": null,
   "metadata": {},
   "outputs": [],
   "source": []
  },
  {
   "cell_type": "code",
   "execution_count": 21,
   "metadata": {},
   "outputs": [],
   "source": []
  },
  {
   "cell_type": "code",
   "execution_count": null,
   "metadata": {},
   "outputs": [],
   "source": []
  },
  {
   "cell_type": "code",
   "execution_count": null,
   "metadata": {},
   "outputs": [],
   "source": []
  }
 ],
 "metadata": {
  "kernelspec": {
   "display_name": "Python 3",
   "language": "python",
   "name": "python3"
  },
  "language_info": {
   "codemirror_mode": {
    "name": "ipython",
    "version": 3
   },
   "file_extension": ".py",
   "mimetype": "text/x-python",
   "name": "python",
   "nbconvert_exporter": "python",
   "pygments_lexer": "ipython3",
   "version": "3.6.5"
  }
 },
 "nbformat": 4,
 "nbformat_minor": 2
}
