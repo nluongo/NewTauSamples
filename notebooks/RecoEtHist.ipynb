{
 "cells": [
  {
   "cell_type": "code",
   "execution_count": 97,
   "metadata": {},
   "outputs": [],
   "source": [
    "import ROOT\n",
    "from ROOT import TGraph, TCanvas, TFile, TLegend, TH1F, TText, TPaveText, kRed, kBlue, kGreen\n",
    "from ROOTDefs import prepare_event, set_et_tree_parameters, set_po_tree_parameters, multi_print, get_formatted_root_tree\n",
    "from ROOTPlotDefs import reco_et_tree_histogram\n",
    "from ROOTClassDefs import Tree"
   ]
  },
  {
   "cell_type": "code",
   "execution_count": 33,
   "metadata": {},
   "outputs": [
    {
     "name": "stdout",
     "output_type": "stream",
     "text": [
      "3658\n"
     ]
    },
    {
     "name": "stderr",
     "output_type": "stream",
     "text": [
      "Warning in <TCanvas::Constructor>: Deleting canvas with same name: c1\n"
     ]
    }
   ],
   "source": [
    "%jsroot on\n",
    "c1 = TCanvas('c1', 'Graph Draw Options', 200, 10, 600, 400)\n",
    "\n",
    "new_sig_f = TFile('../dataFiles/sig_ntuple.root')\n",
    "new_sig_t = Tree(new_sig_f.Get('mytree'))\n",
    "\n",
    "new_back_f = TFile('../dataFiles/back_ntuple_abr.root')\n",
    "new_back_t = Tree(new_back_f.Get('mytree'))\n",
    "\n",
    "old_back_f = TFile('../dataFiles/output_MB80_formatted.root')\n",
    "old_back_t = Tree(old_back_f.Get('mytree'))\n",
    "set_et_tree_parameters(old_back_t)\n",
    "\n",
    "#old_sig_f = TFile('/eos/user/n/nicholas/SWAN_projects/NewTauSamples/dataFiles/ztt_Output_formatted.root')\n",
    "#old_sig_t = Tree(old_sig_f.Get('mytree'))\n",
    "old_sig_t, old_sig_f = get_formatted_root_tree('/eos/user/n/nicholas/SWAN_projects/NewTauSamples/dataFiles/ztt_Output_formatted.root')\n",
    "print(old_sig_t.entries)"
   ]
  },
  {
   "cell_type": "code",
   "execution_count": null,
   "metadata": {},
   "outputs": [],
   "source": [
    "print 'New signal entries'\n",
    "print new_sig_t.entries\n",
    "print 'Old signal entries'\n",
    "print old_sig_t.entries\n",
    "print 'New background entries'\n",
    "print old_back_t.entries\n",
    "\n",
    "new_sig_had_hist = TH1F('hist', 'New Signal Hadronic Layer Energy', 100, 0, 20)\n",
    "old_sig_had_hist = TH1F('hist', 'Old Signal Hadronic Layer Energy', 100, 0, 20)\n",
    "new_back_had_hist = TH1F('hist', 'New Background Hadronic Layer Energy', 100, 0, 20)\n",
    "old_back_had_hist = TH1F('hist', 'Old Background Hadronic Layer Energy', 100, 0, 20)\n",
    "\n",
    "zero_new_sig_had = 0\n",
    "zero_old_sig_had = 0\n",
    "zero_new_back_had = 0\n",
    "zero_old_back_had = 0\n",
    "\n",
    "# Load Had info for new signal\n",
    "for event in new_sig_t:\n",
    "  new_sig_had_hist.Fill(event.had_layer.reco_et)\n",
    "  if event.had_layer.reco_et == 0:\n",
    "    zero_new_sig_had += 1\n",
    "\n",
    "# Load Had info for old signal\n",
    "for event in old_sig_t:\n",
    "  old_sig_had_hist.Fill(event.had_layer.reco_et)\n",
    "  if event.had_layer.reco_et == 0:\n",
    "    zero_old_sig_had += 1\n",
    "\n",
    "# Load Had info for new background\n",
    "for event in new_back_t:\n",
    "  new_back_had_hist.Fill(event.had_layer.reco_et)\n",
    "  if event.had_layer.reco_et == 0:\n",
    "    zero_new_back_had += 1\n",
    "\n",
    "# Load Had info for old background\n",
    "for event in old_back_t:\n",
    "  old_back_had_hist.Fill(event.had_layer.reco_et)\n",
    "  if event.had_layer.reco_et == 0:\n",
    "    zero_old_back_had += 1"
   ]
  },
  {
   "cell_type": "code",
   "execution_count": null,
   "metadata": {},
   "outputs": [],
   "source": [
    "print 'Percentage of new signal entries with zero hadronic energy'\n",
    "print float(zero_new_sig_had) / new_sig_t.entries\n",
    "\n",
    "print 'Percentage of old signal entries with zero hadronic energy'\n",
    "print float(zero_old_sig_had) / old_sig_t.entries\n",
    "\n",
    "print 'Percentage of new background entries with zero hadronic energy'\n",
    "print float(zero_new_back_had) / new_back_t.entries\n",
    "\n",
    "print 'Percentage of old background entries with zero hadronic energy'\n",
    "print float(zero_old_back_had) / old_back_t.entries"
   ]
  },
  {
   "cell_type": "code",
   "execution_count": 151,
   "metadata": {},
   "outputs": [
    {
     "name": "stderr",
     "output_type": "stream",
     "text": [
      "Warning in <TFile::Append>: Replacing existing TH1: histo (Potential memory leak).\n",
      "Warning in <TFile::Append>: Replacing existing TH1: histo (Potential memory leak).\n",
      "Warning in <TFile::Append>: Replacing existing TH1: histo (Potential memory leak).\n"
     ]
    }
   ],
   "source": [
    "new_sig_hist = reco_et_tree_histogram(new_sig_t, 100, 0, 50)\n",
    "new_sig_hist.SetTitle('New Signal Event Reconstructed Et')\n",
    "\n",
    "old_sig_hist = reco_et_tree_histogram(old_sig_t, 100, 0, 50)\n",
    "old_sig_hist.SetTitle('Old Signal Event Reconstructed Et')\n",
    "\n",
    "new_back_hist = reco_et_tree_histogram(new_back_t, 100, 0, 50)\n",
    "new_back_hist.SetTitle('New Background Event Reconstructed Et')\n",
    "\n",
    "old_back_hist = reco_et_tree_histogram(old_back_t, 100, 0, 50)\n",
    "old_back_hist.SetTitle('Old Background Event Reconstructed Et')"
   ]
  },
  {
   "cell_type": "code",
   "execution_count": null,
   "metadata": {},
   "outputs": [],
   "source": [
    "afs_name = '../plots/RecoEtHists.pdf'\n",
    "eos_name = '/eos/user/n/nicholas/SWAN_projects/NewTauSamples/plots/RecoEtHists.pdf'\n",
    "\n",
    "plot_names = [afs_name, eos_name]"
   ]
  },
  {
   "cell_type": "code",
   "execution_count": null,
   "metadata": {},
   "outputs": [],
   "source": [
    "# Total reconstructed Et plots\n",
    "new_sig_hist.Draw()\n",
    "multi_print(plot_names, c1, '(')\n",
    "\n",
    "old_sig_hist.Draw()\n",
    "multi_print(plot_names, c1)\n",
    "\n",
    "new_back_hist.Draw()\n",
    "multi_print(plot_names, c1)\n",
    "\n",
    "old_back_hist.Draw()\n",
    "multi_print(plot_names, c1)\n",
    "\n",
    "# Had reconstructed Et plots\n",
    "c1.SetLogy()\n",
    "\n",
    "new_sig_had_hist.Draw()\n",
    "new_sig_had_hist.GetXaxis().SetTitle('Reconstructed Et (GeV)')\n",
    "new_sig_had_hist.GetYaxis().SetTitle('Entries')\n",
    "multi_print(plot_names, c1)\n",
    "\n",
    "old_sig_had_hist.Draw()\n",
    "old_sig_had_hist.GetXaxis().SetTitle('Reconstructed Et (GeV)')\n",
    "old_sig_had_hist.GetYaxis().SetTitle('Entries')\n",
    "multi_print(plot_names, c1)\n",
    "\n",
    "new_back_had_hist.Draw()\n",
    "new_back_had_hist.GetXaxis().SetTitle('Reconstructed Et (GeV)')\n",
    "new_back_had_hist.GetYaxis().SetTitle('Entries')\n",
    "multi_print(plot_names, c1)\n",
    "\n",
    "old_back_had_hist.Draw()\n",
    "old_back_had_hist.GetXaxis().SetTitle('Reconstructed Et (GeV)')\n",
    "old_back_had_hist.GetYaxis().SetTitle('Entries')\n",
    "multi_print(plot_names, c1)\n",
    "\n",
    "c1.SetLogy(0)"
   ]
  },
  {
   "cell_type": "code",
   "execution_count": 149,
   "metadata": {},
   "outputs": [
    {
     "name": "stderr",
     "output_type": "stream",
     "text": [
      "Info in <TCanvas::Print>: pdf file ../plots/SigRecoEtOldAndNew.pdf has been created\n"
     ]
    }
   ],
   "source": [
    "c1.Clear()\n",
    "\n",
    "new_sig_hist.Draw('hist')\n",
    "new_sig_hist.Scale(1/new_sig_hist.Integral())\n",
    "new_sig_hist.SetTitle('Signal Reconstructed Et')\n",
    "new_sig_hist.GetXaxis().SetTitle('Reconstructed Et (GeV)')\n",
    "new_sig_hist.GetYaxis().SetTitle('Entries (Normalized)')\n",
    "new_sig_hist.SetStats(0)\n",
    "new_sig_hist.SetLineColor(kRed)\n",
    "\n",
    "old_sig_hist.Draw('hist same')\n",
    "old_sig_hist.Scale(1/old_sig_hist.Integral())\n",
    "old_sig_hist.SetLineColor(kBlue)\n",
    "\n",
    "leg1 = TLegend(0.7, 0.8, 0.9, 0.9)\n",
    "leg1.AddEntry(new_sig_hist, 'New Sample')\n",
    "leg1.AddEntry(old_sig_hist, 'Old Sample')\n",
    "leg1.Draw()\n",
    "\n",
    "txt1 = TPaveText(0.6, 0.7, .9, .78, \"blNDC\")\n",
    "txt1.AddText(\"True Tau Visible Pt > 20 GeV\")\n",
    "txt1.AddText(\"Seed Cell Et > 1 Gev\")\n",
    "txt1.SetBorderSize(0)\n",
    "txt1.SetFillStyle(0)\n",
    "txt1.SetTextFont(40)\n",
    "txt1.Draw()\n",
    "\n",
    "#c1.Print('../plots/SigRecoEtOldAndNew.pdf')\n",
    "c1.Draw()\n",
    "#c1.Update()"
   ]
  },
  {
   "cell_type": "code",
   "execution_count": 164,
   "metadata": {},
   "outputs": [
    {
     "name": "stderr",
     "output_type": "stream",
     "text": [
      "Info in <TCanvas::Print>: pdf file ../plots/BackRecoEtOldAndNew.pdf has been created\n"
     ]
    }
   ],
   "source": [
    "c1.Clear()\n",
    "\n",
    "new_back_hist.Draw('hist')\n",
    "new_back_hist.Scale(1/new_back_hist.Integral())\n",
    "new_back_hist.SetTitle('Background Reconstructed Et')\n",
    "new_back_hist.GetXaxis().SetTitle('Reconstructed Et (GeV)')\n",
    "new_back_hist.GetYaxis().SetTitle('Entries (Normalized)')\n",
    "new_back_hist.SetStats(0)\n",
    "new_back_hist.SetLineColor(kRed)\n",
    "\n",
    "old_back_hist.Draw('hist same')\n",
    "old_back_hist.Scale(1/old_back_hist.Integral())\n",
    "old_back_hist.SetLineColor(kBlue)\n",
    "\n",
    "leg2 = TLegend(0.7, 0.8, 0.9, 0.9)\n",
    "leg2.AddEntry(new_back_hist, 'New Sample')\n",
    "leg2.AddEntry(old_back_hist, 'Old Sample')\n",
    "leg2.Draw()\n",
    "\n",
    "txt2 = TPaveText(0.7, 0.75, .9, .8, \"blNDC\")\n",
    "#txt2.AddText(\"True Tau Visible Pt > 20 GeV\")\n",
    "txt2.AddText(\"Seed Cell Et > 1 Gev\")\n",
    "txt2.SetBorderSize(0)\n",
    "txt2.SetFillStyle(0)\n",
    "txt2.SetTextFont(40)\n",
    "txt2.Draw()\n",
    "\n",
    "c1.Print('../plots/BackRecoEtOldAndNew.pdf')\n",
    "#c1.Draw()"
   ]
  },
  {
   "cell_type": "code",
   "execution_count": null,
   "metadata": {},
   "outputs": [],
   "source": []
  }
 ],
 "metadata": {
  "kernelspec": {
   "display_name": "Python 3",
   "language": "python",
   "name": "python3"
  },
  "language_info": {
   "codemirror_mode": {
    "name": "ipython",
    "version": 3
   },
   "file_extension": ".py",
   "mimetype": "text/x-python",
   "name": "python",
   "nbconvert_exporter": "python",
   "pygments_lexer": "ipython3",
   "version": "3.6.5"
  }
 },
 "nbformat": 4,
 "nbformat_minor": 2
}
